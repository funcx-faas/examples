{
 "cells": [
  {
   "cell_type": "markdown",
   "metadata": {},
   "source": [
    "# funcX Tutorial\n",
    "\n",
    "funcX is a Function-as-a-Service (FaaS) platform for science that enables you to register functions in a cloud-hosted service and then reliably execute those functions on a remote funcX endpoint. This tutorial is configured to use a tutorial endpoint hosted by the funcX team. You can setup and use your own endpoint by following the [funcX documentation](https://funcx.readthedocs.io/en/latest/endpoints.html)."
   ]
  },
  {
   "cell_type": "markdown",
   "metadata": {},
   "source": [
    "## funcX Python SDK\n",
    "\n",
    "The funcX Python SDK provides programming abstractions for interacting with the funcX service. Before running this tutorial you should first install the funcX SDK as follows:\n",
    "\n",
    "    $ pip install funcx\n",
    "\n",
    "The funcX SDK exposes a `FuncXClient` and `FuncXExecutor` for all interactions with the funcX service. In order to use the funcX service, you must first authenticate using one of hundreds of supported identity provides (e.g., your institution, ORCID, Google).  As part of the authentication process you must grant permission for funcX to access your identity information (to retrieve your email address), Globus Groups management access (to share functions and endpoints), and Globus Search (to discover functions and endpoints)."
   ]
  },
  {
   "cell_type": "code",
   "execution_count": 1,
   "metadata": {},
   "outputs": [
    {
     "name": "stdout",
     "output_type": "stream",
     "text": [
      "FuncXExecutor :  <funcx.sdk.executor.FuncXExecutor object at 0x7f154dc67220>\n"
     ]
    }
   ],
   "source": [
    "from funcx import FuncXClient, FuncXExecutor\n",
    "\n",
    "fx = FuncXExecutor(FuncXClient())\n",
    "print(\"FuncXExecutor : \", fx)"
   ]
  },
  {
   "cell_type": "markdown",
   "metadata": {},
   "source": [
    "# Basic usage\n",
    "\n",
    "The following example demonstrates how you can execute a function with the `FuncXExecutor` interface.\n",
    "\n",
    "\n",
    "### Submitting a function\n",
    "\n",
    "At the most basic level, to invoke a function, you must provide:\n",
    "\n",
    " * the function \n",
    " * the function arguments if any\n",
    " * the `endpoint_id` of the endpoint on which you wish to execute that function. \n",
    "    \n",
    "> **Note**: Here we use the public funcX tutorial endpoint. You may change the `endpoint_id` to the UUID of any endpoint for which you have permission to execute functions."
   ]
  },
  {
   "cell_type": "code",
   "execution_count": 2,
   "metadata": {},
   "outputs": [
    {
     "name": "stdout",
     "output_type": "stream",
     "text": [
      "Submit returned:  <FuncXFuture at 0x7f154dc67c40 state=pending>\n"
     ]
    }
   ],
   "source": [
    "# Define the function for remote execution\n",
    "def hello_world():\n",
    "    return \"Hello World!\"\n",
    "\n",
    "tutorial_endpoint = '4b116d3c-1703-4f8f-9f6f-39921e5864df' # Public tutorial endpoint\n",
    "future = fx.submit(hello_world, endpoint_id=tutorial_endpoint)\n",
    "\n",
    "print(\"Submit returned: \", future)"
   ]
  },
  {
   "cell_type": "markdown",
   "metadata": {},
   "source": [
    "### Getting results\n",
    "\n",
    "Once you `submit` a function to the `FuncXExecutor`, the executor will return an instance of `FuncXFuture` in lieu of the result from the function.\n",
    "\n",
    "**@kyle please help simplify the next para (copied over from parsl docs)**\n",
    "\n",
    "When a normal Python function is invoked, the Python interpreter waits for the function to complete execution and returns the results. In case of long running functions, it may not be desirable to wait for completion. Instead, it is preferable that functions are executed asynchronously. funcX provides such asynchronous behavior by returning a future in lieu of results. A future is essentially an object that allows funcX to track the status of an asynchronous task so that it may, in the future, be interrogated to find the status, results, exceptions, etc.\n",
    "\n",
    "`FuncXFuture`s returned from the `FuncXExecutor` can be used in the following ways:\n",
    "* `future.done()` is non-blocking and returns a boolean that indicates whether the task is done\n",
    "* `future.result()` is a blocking call, that returns the result from the remote execution or raises an exception in case task execution failed. "
   ]
  },
  {
   "cell_type": "code",
   "execution_count": 3,
   "metadata": {},
   "outputs": [
    {
     "data": {
      "text/plain": [
       "False"
      ]
     },
     "execution_count": 3,
     "metadata": {},
     "output_type": "execute_result"
    }
   ],
   "source": [
    "# Returns a boolean that indicates task completion\n",
    "future.done()"
   ]
  },
  {
   "cell_type": "code",
   "execution_count": null,
   "metadata": {
    "scrolled": true
   },
   "outputs": [],
   "source": [
    "# Waits for the function to complete and returns the task result or exception on failure\n",
    "future.result()"
   ]
  },
  {
   "cell_type": "markdown",
   "metadata": {},
   "source": [
    "### Catching exceptions\n",
    "\n",
    "When a function fails and you try to get its result, the `future` will raise an exception. In the following example, the 'deterministic failure' exception is raised when `future.result()` is called."
   ]
  },
  {
   "cell_type": "code",
   "execution_count": null,
   "metadata": {},
   "outputs": [],
   "source": [
    "def division_by_zero():\n",
    "    return 42 / 0 # This will raise a \n",
    "\n",
    "future = fx.submit(division_by_zero, endpoint_id=tutorial_endpoint)\n",
    "\n",
    "# This will raise an exception\n",
    "try:\n",
    "    future.result()\n",
    "except Exception as exc:\n",
    "    print(\"funcX returned an exception: \", exc)"
   ]
  },
  {
   "cell_type": "markdown",
   "metadata": {},
   "source": [
    "## Functions with arguments\n",
    "\n",
    "funcX supports registration and invocation of functions with arbitrary arguments and returned parameters. funcX will serialize any `*args` and `**kwargs` when invoking a function and it will serialize any return parameters or exceptions.  Note: funcX uses standard Python serilaization libraries (e.g., Pickle, Dill). It also limits the size of input arguments and returned parameters to 5 MB. \n",
    "\n",
    "The following example shows a function that computes the sum of a list of input arguments. First, we register the function as above:"
   ]
  },
  {
   "cell_type": "code",
   "execution_count": null,
   "metadata": {},
   "outputs": [],
   "source": [
    "def funcx_sum(a, b):\n",
    "    return a + b\n",
    "\n",
    "future = fx.submit(funcx_sum, 40, 2, endpoint_id=tutorial_endpoint)\n",
    "print(f\"funcX returns 40 + 2 = {future.result()}\")\n"
   ]
  },
  {
   "cell_type": "markdown",
   "metadata": {},
   "source": [
    "## Functions with dependencies\n",
    "\n",
    "funcX requires that functions explictly state all dependencies within the function body. It also assumes that the dependent libraries are available on the endpoint in which the function will execute.  For example, in the following function, we explictly import the time module. "
   ]
  },
  {
   "cell_type": "code",
   "execution_count": null,
   "metadata": {},
   "outputs": [],
   "source": [
    "def funcx_date():\n",
    "    from datetime import date\n",
    "    return date.today()\n",
    "\n",
    "future = fx.submit(funcx_date, endpoint_id=tutorial_endpoint)\n",
    "\n",
    "print(\"Date fetched from endpoint: \", future.result())"
   ]
  },
  {
   "cell_type": "markdown",
   "metadata": {},
   "source": [
    "## Calling external applications\n",
    "\n",
    "Depending on the configuration of the funcX endpoint, you can often invoke external applications that are available in the endpoint environment. \n"
   ]
  },
  {
   "cell_type": "code",
   "execution_count": null,
   "metadata": {
    "scrolled": true
   },
   "outputs": [],
   "source": [
    "def funcx_echo(name):\n",
    "    import os\n",
    "    return os.popen(\"echo Hello {} from $HOSTNAME\".format(name)).read()\n",
    "\n",
    "future = fx.submit(funcx_echo, \"World\", endpoint_id=tutorial_endpoint)\n",
    "\n",
    "print(\"Echo output: \", future.result())"
   ]
  },
  {
   "cell_type": "markdown",
   "metadata": {},
   "source": [
    "## Running functions many times\n",
    "\n",
    "After registering a function you can invoke it repeatedly. The following example shows how the Monte Carlo method can be used to estimate pi. \n",
    "\n",
    "Specifically, if a circle with radius $r$ is inscribed inside a square with side length $2r$, the area of the circle is $\\pi r^2$ and the area of the square is $(2r)^2$. Thus, if $N$ uniformly-distributed points are dropped at random locations within the square, approximately $N\\pi/4$ will be inside the circle.\n"
   ]
  },
  {
   "cell_type": "code",
   "execution_count": null,
   "metadata": {},
   "outputs": [],
   "source": [
    "import time\n",
    "\n",
    "# function that estimates pi by placing points in a box\n",
    "def pi(num_points):\n",
    "    from random import random\n",
    "    inside = 0   \n",
    "    \n",
    "    return 3 # BADD\n",
    "    for i in range(num_points):\n",
    "        x, y = random(), random()  # Drop a point randomly within the box.\n",
    "        if x**2 + y**2 < 1:        # Count points within the circle.\n",
    "            inside += 1  \n",
    "    return (inside*4 / num_points)\n",
    "\n",
    "\n",
    "# execute the function 3 times \n",
    "estimates = []\n",
    "for i in range(3):\n",
    "    estimates.append(fx.submit(pi, \n",
    "                               10**5, \n",
    "                               endpoint_id=tutorial_endpoint))\n",
    "\n",
    "print(estimates)\n",
    "# get the results and calculate the total\n",
    "# total = [future.result() for future in estimates]\n",
    "for future in estimates:\n",
    "    print(future.result())\n",
    "\n",
    "print(\"Total : \", total)\n",
    "\n",
    "# print the results\n",
    "print(\"Estimates: {}\".format(results))\n",
    "print(\"Average: {:.5f}\".format(total/len(results)))"
   ]
  },
  {
   "cell_type": "markdown",
   "metadata": {},
   "source": [
    "# Endpoint operations\n",
    "\n",
    "You can retrieve information about endpoints including status and information about how the endpoint is configured. "
   ]
  },
  {
   "cell_type": "code",
   "execution_count": null,
   "metadata": {},
   "outputs": [],
   "source": [
    "from funcx import FuncXClient\n",
    "fxc = FuncXClient()\n",
    "\n",
    "fxc.get_endpoint_status(tutorial_endpoint)"
   ]
  }
 ],
 "metadata": {
  "kernelspec": {
   "display_name": "Python 3",
   "language": "python",
   "name": "python3"
  },
  "language_info": {
   "codemirror_mode": {
    "name": "ipython",
    "version": 3
   },
   "file_extension": ".py",
   "mimetype": "text/x-python",
   "name": "python",
   "nbconvert_exporter": "python",
   "pygments_lexer": "ipython3",
   "version": "3.10.4"
  }
 },
 "nbformat": 4,
 "nbformat_minor": 4
}
