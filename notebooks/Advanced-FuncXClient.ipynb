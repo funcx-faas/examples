{
 "cells": [
  {
   "cell_type": "markdown",
   "metadata": {},
   "source": [
    "# Globus Compute Tutorial\n",
    "\n",
    "Globus Compute is a Function-as-a-Service (FaaS) platform for science that enables you to register functions in a cloud-hosted service and then reliably execute those functions on a remote Globus Compute endpoint. This tutorial is configured to use a tutorial endpoint hosted by the Globus Compute team. You can setup and use your own endpoint by following the [Globus Compute documentation](https://globus-compute.readthedocs.io/en/latest/endpoints.html)."
   ]
  },
  {
   "attachments": {},
   "cell_type": "markdown",
   "metadata": {},
   "source": [
    "## Globus Compute Python SDK\n",
    "\n",
    "The Globus Compute Python SDK provides programming abstractions for interacting with the Globus Compute service. Before running this tutorial you should first install the Globus Compute SDK as follows:\n",
    "\n",
    "    $ pip install globus-compute-sdk\n",
    "\n",
    "The Globus Compute SDK exposes a `Client` object for all interactions with the Globus Compute service. In order to use the Globus Compute service, you must first authenticate using one of hundreds of supported identity provides (e.g., your institution, ORCID, Google).  As part of the authentication process you must grant permission for Globus Compute to access your identity information (to retrieve your email address) and Globus Groups management access (to share endpoints)."
   ]
  },
  {
   "cell_type": "code",
   "execution_count": null,
   "metadata": {},
   "outputs": [],
   "source": [
    "from globus_compute_sdk import Client\n",
    "\n",
    "gcc = Client()"
   ]
  },
  {
   "attachments": {},
   "cell_type": "markdown",
   "metadata": {},
   "source": [
    "# Basic usage\n",
    "\n",
    "The following example demonstrates how you can register and execute a function.\n",
    "\n",
    "## Registering a function\n",
    "\n",
    "Globus Compute works like any other FaaS platform: you must first register a function with Globus Compute before being able to execute it on a remote endpoint. The registration process will serialize the function body and store it securely in the Globus Compute service. As we will see below, you may share functions with others and discover functions that are shared with you.\n",
    "\n",
    "Upon registration of a function, Globus Compute will return a UUID for that function. This UUID can then be used to manage and invoke the function."
   ]
  },
  {
   "cell_type": "code",
   "execution_count": null,
   "metadata": {},
   "outputs": [],
   "source": [
    "def hello_world():\n",
    "    return \"Hello World!\"\n",
    "\n",
    "func_uuid = gcc.register_function(hello_world)\n",
    "print(func_uuid)"
   ]
  },
  {
   "attachments": {},
   "cell_type": "markdown",
   "metadata": {},
   "source": [
    "## Running a function \n",
    "\n",
    "To invoke a function, you must provide a) the function's UUID, and b) the `endpoint_id` of the endpoint on which you wish to execute that function. Note: here we use the public Globus Compute tutorial endpoint; you may change the `endpoint_id` to the UUID of any endpoint for which you have permission to execute functions.\n",
    "\n",
    "Globus Compute functions are designed to be executed remotely and asynchrously. To avoid synchronous invocation, the result of a function invocation (called a `task`) is a UUID that may be introspected to monitor its execution status and retrieve its results.\n",
    "\n",
    "The Globus Compute service will manage the reliable execution of a task, for example, by qeueing tasks when the endpoint is busy or offline and retrying tasks in case of node failures."
   ]
  },
  {
   "cell_type": "code",
   "execution_count": null,
   "metadata": {},
   "outputs": [],
   "source": [
    "tutorial_endpoint = '4b116d3c-1703-4f8f-9f6f-39921e5864df' # Public tutorial endpoint\n",
    "res = gcc.run(endpoint_id=tutorial_endpoint, function_id=func_uuid)\n",
    "print(res)"
   ]
  },
  {
   "attachments": {},
   "cell_type": "markdown",
   "metadata": {},
   "source": [
    "## Retrieving results\n",
    "\n",
    "When the task has completed executing you can access the results via the Globus Compute client as follows. Note: while the task is processing it will return exceptions at various stages of the lifecycle (e.g., waiting for the endpoint)."
   ]
  },
  {
   "cell_type": "code",
   "execution_count": null,
   "metadata": {},
   "outputs": [],
   "source": [
    "try:\n",
    "    print(gcc.get_result(res))\n",
    "except Exception as e:\n",
    "    print(\"Exception: {}\".format(e))"
   ]
  },
  {
   "attachments": {},
   "cell_type": "markdown",
   "metadata": {},
   "source": [
    "## Functions with arguments\n",
    "\n",
    "Globus Compute supports registration and invocation of functions with arbitrary arguments and returned parameters. Globus Compute will serialize any \\*args and \\*\\*kwargs when invoking a function and it will serialize any return parameters or exceptions.  Note: Globus Compute uses standard Python serilaization libraries (e.g., Pickle, Dill). It also limits the size of input arguments and returned parameters to 5 MB.\n",
    "\n",
    "The following example shows a function that computes the sum of a list of input arguments. First, we register the function as above:"
   ]
  },
  {
   "cell_type": "code",
   "execution_count": null,
   "metadata": {},
   "outputs": [],
   "source": [
    "def get_sum(items):\n",
    "    return sum(items)\n",
    "\n",
    "sum_function = gcc.register_function(get_sum)"
   ]
  },
  {
   "attachments": {},
   "cell_type": "markdown",
   "metadata": {},
   "source": [
    "When invoking the function you can pass in arguments like any other function, either by position or with keyword arguments."
   ]
  },
  {
   "cell_type": "code",
   "execution_count": null,
   "metadata": {
    "scrolled": true
   },
   "outputs": [],
   "source": [
    "items = [1, 2, 3, 4, 5]\n",
    "\n",
    "res = gcc.run(items, endpoint_id=tutorial_endpoint, function_id=sum_function)\n",
    "\n",
    "print (gcc.get_result(res))"
   ]
  },
  {
   "attachments": {},
   "cell_type": "markdown",
   "metadata": {},
   "source": [
    "## Functions with dependencies\n",
    "\n",
    "Globus Compute requires that functions explictly state all dependencies within the function body. It also assumes that the dependent libraries are available on the endpoint in which the function will execute.  For example, in the following function, we explictly import the time module."
   ]
  },
  {
   "cell_type": "code",
   "execution_count": null,
   "metadata": {},
   "outputs": [],
   "source": [
    "def get_date():\n",
    "    from datetime import date\n",
    "    return date.today()\n",
    "\n",
    "date_function = gcc.register_function(get_date)\n",
    "\n",
    "res = gcc.run(endpoint_id=tutorial_endpoint, function_id=date_function)\n",
    "\n",
    "print (gcc.get_result(res))\n"
   ]
  },
  {
   "attachments": {},
   "cell_type": "markdown",
   "metadata": {},
   "source": [
    "## Calling external applications\n",
    "\n",
    "Depending on the configuration of the Globus Compute endpoint, you can often invoke external applications that are available in the endpoint environment.\n"
   ]
  },
  {
   "cell_type": "code",
   "execution_count": null,
   "metadata": {},
   "outputs": [],
   "source": [
    "def echo(name):\n",
    "    import os\n",
    "    return os.popen(\"echo Hello {}\".format(name)).read()\n",
    "\n",
    "echo_function = gcc.register_function(echo)\n",
    "\n",
    "res = gcc.run(\"World\", endpoint_id=tutorial_endpoint, function_id=echo_function)\n",
    "\n",
    "print (gcc.get_result(res))"
   ]
  },
  {
   "attachments": {},
   "cell_type": "markdown",
   "metadata": {},
   "source": [
    "## Catching exceptions\n",
    "\n",
    "When functions fail, the exception is captured and serialized by the Globus Compute endpoint, and reraised when you try to get the result.  In the following example, the 'deterministic failure' exception is raised when `fxc.get_result` is called on the failing function."
   ]
  },
  {
   "cell_type": "code",
   "execution_count": null,
   "metadata": {},
   "outputs": [],
   "source": [
    "def failing():\n",
    "    raise Exception(\"deterministic failure\")\n",
    "\n",
    "failing_function = gcc.register_function(failing)\n",
    "\n",
    "res = gcc.run(endpoint_id=tutorial_endpoint, function_id=failing_function)\n",
    "\n",
    "gcc.get_result(res)"
   ]
  },
  {
   "attachments": {},
   "cell_type": "markdown",
   "metadata": {},
   "source": [
    "## Running functions many times\n",
    "\n",
    "After registering a function you can invoke it repeatedly. The following example shows how the Monte Carlo method can be used to estimate pi.\n",
    "\n",
    "Specifically, if a circle with radius $r$ is inscribed inside a square with side length $2r$, the area of the circle is $\\pi r^2$ and the area of the square is $(2r)^2$. Thus, if $N$ uniformly-distributed points are dropped at random locations within the square, approximately $N\\pi/4$ will be inside the circle.\n"
   ]
  },
  {
   "cell_type": "code",
   "execution_count": null,
   "metadata": {},
   "outputs": [],
   "source": [
    "import time\n",
    "\n",
    "# function that estimates pi by placing points in a box\n",
    "def pi(num_points):\n",
    "    from random import random\n",
    "    inside = 0   \n",
    "    for i in range(num_points):\n",
    "        x, y = random(), random()  # Drop a point randomly within the box.\n",
    "        if x**2 + y**2 < 1:        # Count points within the circle.\n",
    "            inside += 1  \n",
    "    return (inside*4 / num_points)\n",
    "\n",
    "# register the function\n",
    "pi_function = gcc.register_function(pi)\n",
    "\n",
    "# execute the function 3 times \n",
    "estimates = []\n",
    "for i in range(3):\n",
    "    estimates.append(gcc.run(10**5, endpoint_id=tutorial_endpoint, function_id=pi_function))\n",
    "\n",
    "# wait for all tasks to complete\n",
    "for e in estimates: \n",
    "    while gcc.get_task(e)['pending']:\n",
    "        time.sleep(3)\n",
    "\n",
    "# get the results and calculate the total\n",
    "results = [gcc.get_result(i) for i in estimates]\n",
    "total = 0\n",
    "for r in results: \n",
    "    total += r\n",
    "\n",
    "# print the results\n",
    "print(\"Estimates: {}\".format(results))\n",
    "print(\"Average: {:.5f}\".format(total/len(results)))"
   ]
  },
  {
   "attachments": {},
   "cell_type": "markdown",
   "metadata": {},
   "source": [
    "## Running batches\n",
    "\n",
    "After registering a function, you might want to invoke that function many times without making individual calls to the Globus Compute service. Such examples occur when running Monte Carlo simulations, ensembles, and parameter sweep applications.\n",
    "\n",
    "Globus Compute provides a batch interface that enables specification of a range of function invocations. To use this interface, you must create a Globus Compute batch object and then add each invocation to that object. You can then pass the constructed object to the `batch_run` interface."
   ]
  },
  {
   "cell_type": "code",
   "execution_count": null,
   "metadata": {},
   "outputs": [],
   "source": [
    "gcc = Client()\n",
    "\n",
    "def squared(x):\n",
    "    return x**2\n",
    "\n",
    "squared_function = gcc.register_function(squared)\n",
    "\n",
    "inputs = list(range(10))\n",
    "batch = gcc.create_batch()\n",
    "\n",
    "for x in inputs:\n",
    "    batch.add(x, endpoint_id=tutorial_endpoint, function_id=squared_function)\n",
    "    \n",
    "batch_res = gcc.batch_run(batch)"
   ]
  },
  {
   "attachments": {},
   "cell_type": "markdown",
   "metadata": {},
   "source": [
    "Similary, Globus Compute provides an interface to retrieve the status of the entire batch of invocations."
   ]
  },
  {
   "cell_type": "code",
   "execution_count": null,
   "metadata": {},
   "outputs": [],
   "source": [
    "gcc.get_batch_result(batch_res)"
   ]
  },
  {
   "attachments": {},
   "cell_type": "markdown",
   "metadata": {},
   "source": [
    "# Endpoint operations\n",
    "\n",
    "You can retrieve information about endpoints including status and information about how the endpoint is configured."
   ]
  },
  {
   "cell_type": "code",
   "execution_count": null,
   "metadata": {},
   "outputs": [],
   "source": [
    "gcc.get_endpoint_status(tutorial_endpoint)"
   ]
  }
 ],
 "metadata": {
  "kernelspec": {
   "display_name": "Python 3",
   "language": "python",
   "name": "python3"
  },
  "language_info": {
   "codemirror_mode": {
    "name": "ipython",
    "version": 3
   },
   "file_extension": ".py",
   "mimetype": "text/x-python",
   "name": "python",
   "nbconvert_exporter": "python",
   "pygments_lexer": "ipython3",
   "version": "3.10.4"
  }
 },
 "nbformat": 4,
 "nbformat_minor": 4
}
